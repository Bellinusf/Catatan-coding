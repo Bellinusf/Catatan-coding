{
  "nbformat": 4,
  "nbformat_minor": 0,
  "metadata": {
    "colab": {
      "name": "Pysptk RAPT dan SWIPE.ipynb",
      "provenance": [],
      "collapsed_sections": []
    },
    "kernelspec": {
      "name": "python3",
      "display_name": "Python 3"
    }
  },
  "cells": [
    {
      "cell_type": "code",
      "metadata": {
        "colab": {
          "base_uri": "https://localhost:8080/"
        },
        "id": "FhzE0DVemDtM",
        "outputId": "094ed4fd-d2b9-41c4-880d-593f50235384"
      },
      "source": [
        "pip install pysptk"
      ],
      "execution_count": null,
      "outputs": [
        {
          "output_type": "stream",
          "text": [
            "Collecting pysptk\n",
            "\u001b[?25l  Downloading https://files.pythonhosted.org/packages/7c/25/4ea0932fbf0f1db42934b85011c1c825bcf57055ecde7e511f05e9fb9197/pysptk-0.1.18.tar.gz (419kB)\n",
            "\r\u001b[K     |▉                               | 10kB 14.0MB/s eta 0:00:01\r\u001b[K     |█▋                              | 20kB 18.9MB/s eta 0:00:01\r\u001b[K     |██▍                             | 30kB 15.7MB/s eta 0:00:01\r\u001b[K     |███▏                            | 40kB 10.4MB/s eta 0:00:01\r\u001b[K     |████                            | 51kB 8.2MB/s eta 0:00:01\r\u001b[K     |████▊                           | 61kB 8.6MB/s eta 0:00:01\r\u001b[K     |█████▌                          | 71kB 7.9MB/s eta 0:00:01\r\u001b[K     |██████▎                         | 81kB 8.3MB/s eta 0:00:01\r\u001b[K     |███████                         | 92kB 8.5MB/s eta 0:00:01\r\u001b[K     |███████▉                        | 102kB 8.7MB/s eta 0:00:01\r\u001b[K     |████████▋                       | 112kB 8.7MB/s eta 0:00:01\r\u001b[K     |█████████▍                      | 122kB 8.7MB/s eta 0:00:01\r\u001b[K     |██████████▏                     | 133kB 8.7MB/s eta 0:00:01\r\u001b[K     |███████████                     | 143kB 8.7MB/s eta 0:00:01\r\u001b[K     |███████████▊                    | 153kB 8.7MB/s eta 0:00:01\r\u001b[K     |████████████▌                   | 163kB 8.7MB/s eta 0:00:01\r\u001b[K     |█████████████▎                  | 174kB 8.7MB/s eta 0:00:01\r\u001b[K     |██████████████                  | 184kB 8.7MB/s eta 0:00:01\r\u001b[K     |██████████████▉                 | 194kB 8.7MB/s eta 0:00:01\r\u001b[K     |███████████████▋                | 204kB 8.7MB/s eta 0:00:01\r\u001b[K     |████████████████▍               | 215kB 8.7MB/s eta 0:00:01\r\u001b[K     |█████████████████▏              | 225kB 8.7MB/s eta 0:00:01\r\u001b[K     |██████████████████              | 235kB 8.7MB/s eta 0:00:01\r\u001b[K     |██████████████████▊             | 245kB 8.7MB/s eta 0:00:01\r\u001b[K     |███████████████████▌            | 256kB 8.7MB/s eta 0:00:01\r\u001b[K     |████████████████████▎           | 266kB 8.7MB/s eta 0:00:01\r\u001b[K     |█████████████████████           | 276kB 8.7MB/s eta 0:00:01\r\u001b[K     |█████████████████████▉          | 286kB 8.7MB/s eta 0:00:01\r\u001b[K     |██████████████████████▋         | 296kB 8.7MB/s eta 0:00:01\r\u001b[K     |███████████████████████▍        | 307kB 8.7MB/s eta 0:00:01\r\u001b[K     |████████████████████████▏       | 317kB 8.7MB/s eta 0:00:01\r\u001b[K     |█████████████████████████       | 327kB 8.7MB/s eta 0:00:01\r\u001b[K     |█████████████████████████▉      | 337kB 8.7MB/s eta 0:00:01\r\u001b[K     |██████████████████████████▋     | 348kB 8.7MB/s eta 0:00:01\r\u001b[K     |███████████████████████████▍    | 358kB 8.7MB/s eta 0:00:01\r\u001b[K     |████████████████████████████▏   | 368kB 8.7MB/s eta 0:00:01\r\u001b[K     |█████████████████████████████   | 378kB 8.7MB/s eta 0:00:01\r\u001b[K     |█████████████████████████████▊  | 389kB 8.7MB/s eta 0:00:01\r\u001b[K     |██████████████████████████████▌ | 399kB 8.7MB/s eta 0:00:01\r\u001b[K     |███████████████████████████████▎| 409kB 8.7MB/s eta 0:00:01\r\u001b[K     |████████████████████████████████| 419kB 8.7MB/s \n",
            "\u001b[?25hRequirement already satisfied: scipy in /usr/local/lib/python3.7/dist-packages (from pysptk) (1.4.1)\n",
            "Requirement already satisfied: six in /usr/local/lib/python3.7/dist-packages (from pysptk) (1.15.0)\n",
            "Requirement already satisfied: decorator in /usr/local/lib/python3.7/dist-packages (from pysptk) (4.4.2)\n",
            "Requirement already satisfied: numpy>=1.13.3 in /usr/local/lib/python3.7/dist-packages (from scipy->pysptk) (1.19.5)\n",
            "Building wheels for collected packages: pysptk\n",
            "  Building wheel for pysptk (setup.py) ... \u001b[?25l\u001b[?25hdone\n",
            "  Created wheel for pysptk: filename=pysptk-0.1.18-cp37-cp37m-linux_x86_64.whl size=951932 sha256=52f250811237176fd49375d0130d9b3ebb0884b6ebd41b0a4321902414782677\n",
            "  Stored in directory: /root/.cache/pip/wheels/c7/96/d2/a163240019c59504402fab713af259026af81a99dea943404a\n",
            "Successfully built pysptk\n",
            "Installing collected packages: pysptk\n",
            "Successfully installed pysptk-0.1.18\n"
          ],
          "name": "stdout"
        }
      ]
    },
    {
      "cell_type": "code",
      "metadata": {
        "id": "jqBS-S5DmAwe"
      },
      "source": [
        "import matplotlib.pyplot as plt\n",
        "import numpy as np\n",
        "import pysptk\n",
        "import librosa\n",
        "from scipy.io import wavfile"
      ],
      "execution_count": null,
      "outputs": []
    },
    {
      "cell_type": "code",
      "metadata": {
        "colab": {
          "base_uri": "https://localhost:8080/"
        },
        "id": "biApvgwwnMjS",
        "outputId": "c5e9a749-5ab8-4fff-a45c-8273ec166241"
      },
      "source": [
        "from google.colab import drive\n",
        "\n",
        "drive.mount('/content/gdrive')"
      ],
      "execution_count": null,
      "outputs": [
        {
          "output_type": "stream",
          "text": [
            "Mounted at /content/gdrive\n"
          ],
          "name": "stdout"
        }
      ]
    },
    {
      "cell_type": "code",
      "metadata": {
        "colab": {
          "base_uri": "https://localhost:8080/",
          "height": 314
        },
        "id": "FpliktXUmgkS",
        "outputId": "0c19aed9-c868-48e5-b3a2-7dbd009aae21"
      },
      "source": [
        "#wavfn= ”fena_0001.wav”\n",
        "fs, x = wavfile.read('/content/gdrive/My Drive/Colab Notebooks/fena_0001.wav')\n",
        "y = np.linspace(0,len(x)/float(fs), len(x))\n",
        "ya = np.max(np.absolute(x))\n",
        "plt.plot(y, x, color=\"#004225\")\n",
        "plt.xlabel(\"Time (seconds)\")\n",
        "plt.ylabel(\"Amplitude\")\n",
        "plt.ylim(-ya, ya)\n",
        "plt.xlim(0, y[-1])\n",
        "plt.show()"
      ],
      "execution_count": null,
      "outputs": [
        {
          "output_type": "stream",
          "text": [
            "/usr/local/lib/python3.7/dist-packages/ipykernel_launcher.py:2: WavFileWarning: Chunk (non-data) not understood, skipping it.\n",
            "  \n"
          ],
          "name": "stderr"
        },
        {
          "output_type": "display_data",
          "data": {
            "image/png": "[encoded data removed]",
            "text/plain": [
              "<Figure size 432x288 with 1 Axes>"
            ]
          },
          "metadata": {
            "tags": [],
            "needs_background": "light"
          }
        }
      ]
    },
    {
      "cell_type": "code",
      "metadata": {
        "colab": {
          "base_uri": "https://localhost:8080/",
          "height": 279
        },
        "id": "o4sRd32Um5cv",
        "outputId": "1e87e6bb-bfee-4154-bade-310c2e524285"
      },
      "source": [
        "#pysptk RAPT\n",
        "F0 = pysptk.rapt(x.astype(np.float32), fs, 80, 60, 240, 0, (1) )\n",
        "y = np.linspace(0,len(x)/float(fs), len(F0))\n",
        "plt.plot(y, F0,  color=\"#004225\")\n",
        "plt.xlabel(\"Time (seconds)\")\n",
        "plt.ylabel(\"Fundamental Frequency (Hz)\")\n",
        "plt.xlim(0, y[-1])\n",
        "plt.show()"
      ],
      "execution_count": null,
      "outputs": [
        {
          "output_type": "display_data",
          "data": {
            "image/png": "[encoded data removed]",
            "text/plain": [
              "<Figure size 432x288 with 1 Axes>"
            ]
          },
          "metadata": {
            "tags": [],
            "needs_background": "light"
          }
        }
      ]
    },
    {
      "cell_type": "code",
      "metadata": {
        "id": "c7P-4EHYQWOM"
      },
      "source": [
        "frame_length = 1024\n",
        "hop_length = 80\n",
        "\n",
        "# Note that almost all of pysptk functions assume input array is C-contiguous and np.float64 element type\n",
        "frames = librosa.util.frame(x, frame_length=frame_length, hop_length=hop_length).astype(np.float64).T\n",
        "\n",
        "# Windowing\n",
        "frames *= pysptk.blackman(frame_length)\n",
        "\n",
        "assert frames.shape[1] == frame_length"
      ],
      "execution_count": null,
      "outputs": []
    },
    {
      "cell_type": "code",
      "metadata": {
        "colab": {
          "base_uri": "https://localhost:8080/",
          "height": 238
        },
        "id": "7F4kd21HRslR",
        "outputId": "8e229133-b325-496d-b30c-e347d966903c"
      },
      "source": [
        "\n",
        "# Pick a short segment\n",
        "pos = 40000\n",
        "frame_length = 1024\n",
        "\n",
        "xw = x[pos:pos+frame_length] * pysptk.blackman(frame_length)\n",
        "\n",
        "plt.plot(xw, linewidth=3.0)\n",
        "#xlim(0, frame_length)\n",
        "#title(\"a windowed time frame\")"
      ],
      "execution_count": null,
      "outputs": [
        {
          "output_type": "error",
          "ename": "ValueError",
          "evalue": "ignored",
          "traceback": [
            "\u001b[0;31m---------------------------------------------------------------------------\u001b[0m",
            "\u001b[0;31mValueError\u001b[0m                                Traceback (most recent call last)",
            "\u001b[0;32m<ipython-input-22-a486f47a3b7a>\u001b[0m in \u001b[0;36m<module>\u001b[0;34m()\u001b[0m\n\u001b[1;32m      4\u001b[0m \u001b[0mframe_length\u001b[0m \u001b[0;34m=\u001b[0m \u001b[0;36m1024\u001b[0m\u001b[0;34m\u001b[0m\u001b[0;34m\u001b[0m\u001b[0m\n\u001b[1;32m      5\u001b[0m \u001b[0;34m\u001b[0m\u001b[0m\n\u001b[0;32m----> 6\u001b[0;31m \u001b[0mxw\u001b[0m \u001b[0;34m=\u001b[0m \u001b[0mx\u001b[0m\u001b[0;34m[\u001b[0m\u001b[0mpos\u001b[0m\u001b[0;34m:\u001b[0m\u001b[0mpos\u001b[0m\u001b[0;34m+\u001b[0m\u001b[0mframe_length\u001b[0m\u001b[0;34m]\u001b[0m \u001b[0;34m*\u001b[0m \u001b[0mpysptk\u001b[0m\u001b[0;34m.\u001b[0m\u001b[0mblackman\u001b[0m\u001b[0;34m(\u001b[0m\u001b[0mframe_length\u001b[0m\u001b[0;34m)\u001b[0m\u001b[0;34m\u001b[0m\u001b[0;34m\u001b[0m\u001b[0m\n\u001b[0m\u001b[1;32m      7\u001b[0m \u001b[0;34m\u001b[0m\u001b[0m\n\u001b[1;32m      8\u001b[0m \u001b[0mplt\u001b[0m\u001b[0;34m.\u001b[0m\u001b[0mplot\u001b[0m\u001b[0;34m(\u001b[0m\u001b[0mxw\u001b[0m\u001b[0;34m,\u001b[0m \u001b[0mlinewidth\u001b[0m\u001b[0;34m=\u001b[0m\u001b[0;36m3.0\u001b[0m\u001b[0;34m)\u001b[0m\u001b[0;34m\u001b[0m\u001b[0;34m\u001b[0m\u001b[0m\n",
            "\u001b[0;31mValueError\u001b[0m: operands could not be broadcast together with shapes (0,) (1024,) "
          ]
        }
      ]
    },
    {
      "cell_type": "code",
      "metadata": {
        "id": "L0M-Mm7MNoNa"
      },
      "source": [
        "LPC = pysptk.lpc(xw, 25, 1e-06, True)"
      ],
      "execution_count": null,
      "outputs": []
    },
    {
      "cell_type": "code",
      "metadata": {
        "id": "3RLOd0gVSh4d"
      },
      "source": [
        "# Compute spectrum 20log|X(w)| for a windowed signal\n",
        "sp = 20*np.log10(np.abs(np.fft.rfft(xw)))"
      ],
      "execution_count": null,
      "outputs": []
    },
    {
      "cell_type": "code",
      "metadata": {
        "colab": {
          "base_uri": "https://localhost:8080/",
          "height": 286
        },
        "id": "w_c9IcsaSGJo",
        "outputId": "30ebe1ef-925d-45f5-d99e-9cbb216d3b31"
      },
      "source": [
        "plt.plot(LPC, linewidth=3.0)"
      ],
      "execution_count": null,
      "outputs": [
        {
          "output_type": "execute_result",
          "data": {
            "text/plain": [
              "[<matplotlib.lines.Line2D at 0x7f9090ad9f50>]"
            ]
          },
          "metadata": {
            "tags": []
          },
          "execution_count": 21
        },
        {
          "output_type": "display_data",
          "data": {
            "image/png": "[encoded data removed]",
            "text/plain": [
              "<Figure size 432x288 with 1 Axes>"
            ]
          },
          "metadata": {
            "tags": [],
            "needs_background": "light"
          }
        }
      ]
    },
    {
      "cell_type": "code",
      "metadata": {
        "id": "JQvXNQYBkXNy"
      },
      "source": [
        "np.savetxt('fena2.csv', F0, delimiter=',')"
      ],
      "execution_count": null,
      "outputs": []
    },
    {
      "cell_type": "code",
      "metadata": {
        "colab": {
          "base_uri": "https://localhost:8080/"
        },
        "id": "PM9hxw8Kvzc2",
        "outputId": "282fad6d-7452-4f56-8815-8b7398cd99d0"
      },
      "source": [
        "F0"
      ],
      "execution_count": null,
      "outputs": [
        {
          "output_type": "execute_result",
          "data": {
            "text/plain": [
              "array([0., 0., 0., ..., 0., 0., 0.], dtype=float32)"
            ]
          },
          "metadata": {
            "tags": []
          },
          "execution_count": 8
        }
      ]
    },
    {
      "cell_type": "code",
      "metadata": {
        "colab": {
          "base_uri": "https://localhost:8080/",
          "height": 220
        },
        "id": "hXNoVtxcsVPn",
        "outputId": "6f0bd953-464a-4969-d454-93b4af4ded10"
      },
      "source": [
        "# Sample list of text\n",
        "\n",
        "#Lines = [\"This is line A\\n\", \"This is line B\\n\", \"This is line C\\n\"]\n",
        "#Lines\n",
        "\n",
        "\n",
        "# Write the strings in the list to text file\n",
        "\n",
        "with open('Example2.txt', 'w') as writefile:\n",
        "    for line in F0:\n",
        "        print(line)\n",
        "        writefile.write(F0)"
      ],
      "execution_count": null,
      "outputs": [
        {
          "output_type": "stream",
          "text": [
            "0.0\n"
          ],
          "name": "stdout"
        },
        {
          "output_type": "error",
          "ename": "TypeError",
          "evalue": "ignored",
          "traceback": [
            "\u001b[0;31m---------------------------------------------------------------------------\u001b[0m",
            "\u001b[0;31mTypeError\u001b[0m                                 Traceback (most recent call last)",
            "\u001b[0;32m<ipython-input-9-3ab757aca48d>\u001b[0m in \u001b[0;36m<module>\u001b[0;34m()\u001b[0m\n\u001b[1;32m     10\u001b[0m     \u001b[0;32mfor\u001b[0m \u001b[0mline\u001b[0m \u001b[0;32min\u001b[0m \u001b[0mF0\u001b[0m\u001b[0;34m:\u001b[0m\u001b[0;34m\u001b[0m\u001b[0;34m\u001b[0m\u001b[0m\n\u001b[1;32m     11\u001b[0m         \u001b[0mprint\u001b[0m\u001b[0;34m(\u001b[0m\u001b[0mline\u001b[0m\u001b[0;34m)\u001b[0m\u001b[0;34m\u001b[0m\u001b[0;34m\u001b[0m\u001b[0m\n\u001b[0;32m---> 12\u001b[0;31m         \u001b[0mwritefile\u001b[0m\u001b[0;34m.\u001b[0m\u001b[0mwrite\u001b[0m\u001b[0;34m(\u001b[0m\u001b[0mF0\u001b[0m\u001b[0;34m)\u001b[0m\u001b[0;34m\u001b[0m\u001b[0;34m\u001b[0m\u001b[0m\n\u001b[0m",
            "\u001b[0;31mTypeError\u001b[0m: write() argument must be str, not numpy.ndarray"
          ]
        }
      ]
    },
    {
      "cell_type": "code",
      "metadata": {
        "id": "MBfcn5jHso6B"
      },
      "source": [
        "!ls -lh fena_0001pysptk.png"
      ],
      "execution_count": null,
      "outputs": []
    },
    {
      "cell_type": "code",
      "metadata": {
        "id": "IPU7GBlqs3KJ"
      },
      "source": [
        "from IPython.display import Image\n",
        "Image('fena_0001pysptk.png')"
      ],
      "execution_count": null,
      "outputs": []
    },
    {
      "cell_type": "code",
      "metadata": {
        "id": "9KqzObv7nm8r"
      },
      "source": [
        "mean_f0 = np.true_divide(F0.sum(0), (f0 != 0).sum(0))"
      ],
      "execution_count": null,
      "outputs": []
    },
    {
      "cell_type": "code",
      "metadata": {
        "id": "MFU2ls_PqLtn"
      },
      "source": [
        "from google.colab import files\n",
        "plt.savefig(\"abc.png\")\n",
        "files.download(\"abc.png\") "
      ],
      "execution_count": null,
      "outputs": []
    },
    {
      "cell_type": "code",
      "metadata": {
        "id": "phCQ7q8WrjcA"
      },
      "source": [
        "#pysptk SWIPE\n",
        "F0 = pysptk.swipe(x.astype(np.float64), fs, 80, 60, 240, 0.3, (1) )\n",
        "y = np.linspace(0,len(x)/float(fs), len(F0))\n",
        "plt.plot(y, F0,  color=\"#004225\")\n",
        "plt.xlabel(\"Time (seconds)\")\n",
        "plt.ylabel(\"Fundamental Frequency (Hz)\")\n",
        "plt.xlim(0, y[-1])\n",
        "plt.show()"
      ],
      "execution_count": null,
      "outputs": []
    },
    {
      "cell_type": "code",
      "metadata": {
        "id": "Wivit3H-3J7F"
      },
      "source": [
        ""
      ],
      "execution_count": null,
      "outputs": []
    }
  ]
}